{
  "nbformat": 4,
  "nbformat_minor": 0,
  "metadata": {
    "colab": {
      "provenance": []
    },
    "kernelspec": {
      "name": "python3",
      "display_name": "Python 3"
    },
    "language_info": {
      "name": "python"
    }
  },
  "cells": [
    {
      "cell_type": "markdown",
      "source": [
        "📌 배열 속성\n",
        "\n",
        "arr.shape:\t배열의 차원 (행, 열)\n",
        "\n",
        "arr.ndim:\t차원의 수\n",
        "\n",
        "arr.size:\t전체 원소의 수\n",
        "\n",
        "arr.dtype:\t데이터 타입"
      ],
      "metadata": {
        "id": "wD5mg0ETzKwX"
      }
    },
    {
      "cell_type": "markdown",
      "source": [
        "1. arr.shape 배열의 차원 (행, 열)"
      ],
      "metadata": {
        "id": "pjlGbX_9zS_i"
      }
    },
    {
      "cell_type": "code",
      "execution_count": 8,
      "metadata": {
        "colab": {
          "base_uri": "https://localhost:8080/"
        },
        "id": "c9iYuy2dzKSK",
        "outputId": "31bb12b5-f299-4433-e2ec-1ce969b9e635"
      },
      "outputs": [
        {
          "output_type": "stream",
          "name": "stdout",
          "text": [
            "np.arange(1, 5).reshape(2, 2): \n",
            " [[1 2]\n",
            " [3 4]]\n"
          ]
        }
      ],
      "source": [
        "import numpy as np\n",
        "\n",
        "a = np.arange(1, 5).reshape(2, 2)\n",
        "print(\"np.arange(1, 5).reshape(2, 2): \\n\", a)"
      ]
    },
    {
      "cell_type": "markdown",
      "source": [
        "2. arr.ndim 차원의 수"
      ],
      "metadata": {
        "id": "6T2asb8Izy-q"
      }
    },
    {
      "cell_type": "code",
      "source": [
        "a = np.arange(1, 5).reshape(2, 2)\n",
        "print(\"np.arange(1, 5).reshape(2, 2) 의 차원수: \",a.ndim)\n"
      ],
      "metadata": {
        "colab": {
          "base_uri": "https://localhost:8080/"
        },
        "id": "ubkyJt_EzQvv",
        "outputId": "7df45fcd-517c-4513-9db0-984dec23a550"
      },
      "execution_count": 9,
      "outputs": [
        {
          "output_type": "stream",
          "name": "stdout",
          "text": [
            "np.arange(1, 5).reshape(2, 2) 의 차원수:  2\n"
          ]
        }
      ]
    },
    {
      "cell_type": "markdown",
      "source": [
        "3. arr.size:\t전체 원소의 수"
      ],
      "metadata": {
        "id": "QW9-XCGL0FZ0"
      }
    },
    {
      "cell_type": "code",
      "source": [
        "a = np.arange(1, 5).reshape(2, 2)\n",
        "print(\"np.arange(1, 5).reshape(2, 2) 의 원소: \",a.size)\n"
      ],
      "metadata": {
        "colab": {
          "base_uri": "https://localhost:8080/"
        },
        "id": "cPb_OGsmz5vc",
        "outputId": "2d683a63-a13b-4d30-dad4-1fdc7796c5cc"
      },
      "execution_count": 10,
      "outputs": [
        {
          "output_type": "stream",
          "name": "stdout",
          "text": [
            "np.arange(1, 5).reshape(2, 2) 의 원소:  4\n"
          ]
        }
      ]
    },
    {
      "cell_type": "markdown",
      "source": [
        "4. arr.dtype: 데이터 타입"
      ],
      "metadata": {
        "id": "IJEgpm4b0Qfu"
      }
    },
    {
      "cell_type": "code",
      "source": [
        "a = np.arange(1, 5).reshape(2, 2)\n",
        "a.dtype"
      ],
      "metadata": {
        "colab": {
          "base_uri": "https://localhost:8080/"
        },
        "id": "7a0rZmdT0I77",
        "outputId": "115904a9-0387-4a2a-a98e-f71d254fdd58"
      },
      "execution_count": 11,
      "outputs": [
        {
          "output_type": "execute_result",
          "data": {
            "text/plain": [
              "dtype('int64')"
            ]
          },
          "metadata": {},
          "execution_count": 11
        }
      ]
    },
    {
      "cell_type": "code",
      "source": [],
      "metadata": {
        "id": "VgUoJI9V0UAz"
      },
      "execution_count": null,
      "outputs": []
    }
  ]
}