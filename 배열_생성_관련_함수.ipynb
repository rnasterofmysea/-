{
  "nbformat": 4,
  "nbformat_minor": 0,
  "metadata": {
    "colab": {
      "provenance": []
    },
    "kernelspec": {
      "name": "python3",
      "display_name": "Python 3"
    },
    "language_info": {
      "name": "python"
    }
  },
  "cells": [
    {
      "cell_type": "markdown",
      "source": [
        "📌 배열 생성 관련 함수\n",
        "\n",
        "\n",
        "np.array(): 리스트/튜플을 NumPy 배열로 변환\n",
        "\n",
        "np.arange(start, stop, step): 지정 범위의 정수 배열 생성\n",
        "\n",
        "np.linspace(start, stop, num): 시작~끝 사이를 균등 간격으로 나눈 값 생성\n",
        "\n",
        "np.repeat(array, repeats, axis=None): 기존 배열의 각 원소를 반복해서 확장\n",
        "\n",
        "np.tile(vector, reps): 백터 전체 반복\n",
        "\n",
        "np.zeros(shape)\t: 0으로 채워진 배열 생성\n",
        "\n",
        "np.ones(shape): 1로 채워진 배열 생성\n",
        "\n",
        "np.eye(N):\t단위행렬(identity matrix) 생성\n",
        "\n",
        "np.empty(shape):\t초기화되지 않은 배열 생성 (빠르지만 값은 쓰레기값)\n",
        "\n",
        "np.full(shape, value):\t지정된 값으로 채운 배열 생성\n"
      ],
      "metadata": {
        "id": "oR0ibWHzqu8c"
      }
    },
    {
      "cell_type": "markdown",
      "source": [
        "1. np.array(): 리스트/튜플을 NumPy 배열로 변환"
      ],
      "metadata": {
        "id": "-yc1WXLur_Bv"
      }
    },
    {
      "cell_type": "code",
      "execution_count": 4,
      "metadata": {
        "colab": {
          "base_uri": "https://localhost:8080/"
        },
        "id": "MMlsCcMiqtUp",
        "outputId": "d7f1455d-c627-4b19-c699-a864a2ce340c"
      },
      "outputs": [
        {
          "output_type": "stream",
          "name": "stdout",
          "text": [
            "1차원 배열: [1 2 3 4]\n",
            "2차원 배열:\n",
            "[[1 2]\n",
            " [3 4]\n",
            " [5 6]]\n"
          ]
        }
      ],
      "source": [
        "import numpy as np\n",
        "\n",
        "a = np.array([1,2,3,4])\n",
        "b = np.array([[1,2],[3,4],[5,6]])\n",
        "\n",
        "print(\"1차원 배열:\", a)\n",
        "print(\"2차원 배열:\")\n",
        "print(b)\n"
      ]
    },
    {
      "cell_type": "markdown",
      "source": [
        "2. np.arange(start, stop, step): 지정 범위의 정수 배열 생성"
      ],
      "metadata": {
        "id": "IbMvTnMrsBqp"
      }
    },
    {
      "cell_type": "code",
      "source": [
        "import numpy as np\n",
        "a = np.arange(1,11)\n",
        "b = np.arange(1,11,2)\n",
        "\n",
        "print(\"1부터 10까지의 a: \",a)\n",
        "print(\"1부터 10까지 간격 2 씩의 b: \", b)"
      ],
      "metadata": {
        "colab": {
          "base_uri": "https://localhost:8080/"
        },
        "id": "fneQF3zLrR2u",
        "outputId": "bd63cd1e-7f0d-4c3a-e3e9-6f9b577d92d5"
      },
      "execution_count": 8,
      "outputs": [
        {
          "output_type": "stream",
          "name": "stdout",
          "text": [
            "1부터 10까지의 a:  [ 1  2  3  4  5  6  7  8  9 10]\n",
            "1부터 10까지 간격 2 씩의 b:  [1 3 5 7 9]\n"
          ]
        }
      ]
    },
    {
      "cell_type": "markdown",
      "source": [
        "3. np.linspace(start, stop, num): 시작~끝 사이를 균등 간격으로 나눈 값 생성\n",
        "\n",
        "endpoint 옵션 - np.linspace(start, stop, num, endpoint = False, True)\n",
        "(default True)\n",
        "\n",
        "마지막 값을 포함 시키질지 말지 여부"
      ],
      "metadata": {
        "id": "kOA-mrf2smSA"
      }
    },
    {
      "cell_type": "code",
      "source": [
        "import numpy as np\n",
        "\n",
        "a = np.linspace(0,10,3)\n",
        "b = np.linspace(0,10, 3, endpoint=False)\n",
        "\n",
        "print(\"a\")\n",
        "print(a)\n",
        "\n",
        "print(\"\\nendpoint false의 b\")\n",
        "print(b)"
      ],
      "metadata": {
        "colab": {
          "base_uri": "https://localhost:8080/"
        },
        "id": "WxdQuXSisNsc",
        "outputId": "fc73fe8b-1ca0-49a4-d0e0-01b604fa4a12"
      },
      "execution_count": 12,
      "outputs": [
        {
          "output_type": "stream",
          "name": "stdout",
          "text": [
            "a\n",
            "[ 0.  5. 10.]\n",
            "\n",
            "endpoint false의 b\n",
            "[0.         3.33333333 6.66666667]\n"
          ]
        }
      ]
    },
    {
      "cell_type": "markdown",
      "source": [
        "4. np.repeat(array, repeats, axis=None): 기존 배열의 각 원소를 반복해서 확장"
      ],
      "metadata": {
        "id": "6qJQAZGQtviY"
      }
    },
    {
      "cell_type": "code",
      "source": [
        "import numpy as np\n",
        "a = np.repeat(8, 4)\n",
        "b = np.repeat(a, 2)\n",
        "\n",
        "print(\"np.repeat(8, 4): \", a)\n",
        "\n",
        "print(\"np.repeat(a, 2):\", b)\n"
      ],
      "metadata": {
        "colab": {
          "base_uri": "https://localhost:8080/"
        },
        "id": "EcC8eH8bt8e0",
        "outputId": "fafceadf-7a08-4b8d-e391-a0ac631e74d4"
      },
      "execution_count": 17,
      "outputs": [
        {
          "output_type": "stream",
          "name": "stdout",
          "text": [
            "np.repeat(8, 4):  [8 8 8 8]\n",
            "np.repeat(a, 2): [8 8 8 8 8 8 8 8]\n"
          ]
        }
      ]
    },
    {
      "cell_type": "markdown",
      "source": [
        "5. np.tile(vector, reps): 백터 전체 반복"
      ],
      "metadata": {
        "id": "uMe_89MoutKj"
      }
    },
    {
      "cell_type": "code",
      "source": [
        "repeated_whole = np.tile([1,2,4],2)\n",
        "print(\"벡터 전체를 2번 반복: \", repeated_whole)"
      ],
      "metadata": {
        "colab": {
          "base_uri": "https://localhost:8080/"
        },
        "id": "vKjamBP8t_nt",
        "outputId": "40d23c85-c418-4846-fe92-51a2ae579c04"
      },
      "execution_count": 18,
      "outputs": [
        {
          "output_type": "stream",
          "name": "stdout",
          "text": [
            "벡터 전체를 2번 반복:  [1 2 4 1 2 4]\n"
          ]
        }
      ]
    },
    {
      "cell_type": "markdown",
      "source": [
        "6. np.zeros(shape) : 0으로 채워진 배열 생성\n",
        "7. np.ones(shape): 1로 채워진 배열 생성"
      ],
      "metadata": {
        "id": "XFOJ60hcu-FZ"
      }
    },
    {
      "cell_type": "code",
      "source": [
        "a = np.zeros([2,3])\n",
        "b = np.ones(10)\n",
        "\n",
        "print(\"np.zeros([2,3]): \")\n",
        "print(a)\n",
        "print(\"\\nnp.ones(10):\")\n",
        "print(b)"
      ],
      "metadata": {
        "colab": {
          "base_uri": "https://localhost:8080/"
        },
        "id": "nZbE7C-Vu4uK",
        "outputId": "ae58f50d-f1ae-4852-8ee0-05457a95e379"
      },
      "execution_count": 26,
      "outputs": [
        {
          "output_type": "stream",
          "name": "stdout",
          "text": [
            "np.zeros([2,3]): \n",
            "[[0. 0. 0.]\n",
            " [0. 0. 0.]]\n",
            "\n",
            "np.ones(10):\n",
            "[1. 1. 1. 1. 1. 1. 1. 1. 1. 1.]\n"
          ]
        }
      ]
    },
    {
      "cell_type": "markdown",
      "source": [
        "8. np.eye(N): 단위행렬(identity matrix) 생성\n"
      ],
      "metadata": {
        "id": "9d7JLZ6rvqb9"
      }
    },
    {
      "cell_type": "code",
      "source": [
        "np.eye(3)"
      ],
      "metadata": {
        "colab": {
          "base_uri": "https://localhost:8080/"
        },
        "id": "TXeA1xg_vO7c",
        "outputId": "cba5a7b7-acd4-47f4-ea79-1d932b8189a8"
      },
      "execution_count": 27,
      "outputs": [
        {
          "output_type": "execute_result",
          "data": {
            "text/plain": [
              "array([[1., 0., 0.],\n",
              "       [0., 1., 0.],\n",
              "       [0., 0., 1.]])"
            ]
          },
          "metadata": {},
          "execution_count": 27
        }
      ]
    },
    {
      "cell_type": "markdown",
      "source": [
        "9. np.empty(shape): 초기화되지 않은 배열 생성 (빠르지만 값은 쓰레기값)"
      ],
      "metadata": {
        "id": "wVVihcDGvyKm"
      }
    },
    {
      "cell_type": "code",
      "source": [
        "np.empty((2, 3))"
      ],
      "metadata": {
        "colab": {
          "base_uri": "https://localhost:8080/"
        },
        "id": "xAElQZISv15n",
        "outputId": "38d76f3e-df46-4d70-a4ce-dedaf20ee5a2"
      },
      "execution_count": 28,
      "outputs": [
        {
          "output_type": "execute_result",
          "data": {
            "text/plain": [
              "array([[0., 0., 0.],\n",
              "       [0., 0., 0.]])"
            ]
          },
          "metadata": {},
          "execution_count": 28
        }
      ]
    },
    {
      "cell_type": "markdown",
      "source": [
        "10. np.full(shape, value): 지정된 값으로 채운 배열 생성"
      ],
      "metadata": {
        "id": "ybMEhUi0v0gM"
      }
    },
    {
      "cell_type": "code",
      "source": [
        "np.full((2, 3), 7)"
      ],
      "metadata": {
        "colab": {
          "base_uri": "https://localhost:8080/"
        },
        "id": "HiajM2esvvOy",
        "outputId": "897d0c52-3b61-4b35-d938-8f97e020f3aa"
      },
      "execution_count": 29,
      "outputs": [
        {
          "output_type": "execute_result",
          "data": {
            "text/plain": [
              "array([[7, 7, 7],\n",
              "       [7, 7, 7]])"
            ]
          },
          "metadata": {},
          "execution_count": 29
        }
      ]
    },
    {
      "cell_type": "code",
      "source": [],
      "metadata": {
        "id": "awUUrNfpv6Gc"
      },
      "execution_count": null,
      "outputs": []
    }
  ]
}