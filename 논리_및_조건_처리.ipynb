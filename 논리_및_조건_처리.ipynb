{
  "nbformat": 4,
  "nbformat_minor": 0,
  "metadata": {
    "colab": {
      "provenance": []
    },
    "kernelspec": {
      "name": "python3",
      "display_name": "Python 3"
    },
    "language_info": {
      "name": "python"
    }
  },
  "cells": [
    {
      "cell_type": "markdown",
      "source": [
        "📌 논리 및 조건 처리\n",
        "\n",
        "np.where(condition, x, y)\t조건이 참이면 x, 아니면 y\n",
        "\n",
        "np.any(condition)\t조건 중 하나라도 참이면 True\n",
        "\n",
        "np.all(condition)\t모든 조건이 참이면 True\n",
        "\n",
        "np.isnan(a)\tNaN인지 확인\n"
      ],
      "metadata": {
        "id": "ZCvroEvi7Uz1"
      }
    },
    {
      "cell_type": "markdown",
      "source": [
        "1. np.where(condition, x, y) 조건이 참이면 x, 아니면 y"
      ],
      "metadata": {
        "id": "Bb5DVR-d7wo8"
      }
    },
    {
      "cell_type": "code",
      "execution_count": 2,
      "metadata": {
        "colab": {
          "base_uri": "https://localhost:8080/"
        },
        "id": "nZ9hzhma7TiD",
        "outputId": "09bc60a5-9ccc-4e93-9a4e-a2acdbda7d9d"
      },
      "outputs": [
        {
          "output_type": "stream",
          "name": "stdout",
          "text": [
            "[0 0 0 1 1]\n"
          ]
        }
      ],
      "source": [
        "import numpy as np\n",
        "\n",
        "a = np.array([10, 20, 30, 40, 50])\n",
        "\n",
        "print(np.where(a > 30, 1, 0))"
      ]
    },
    {
      "cell_type": "markdown",
      "source": [
        "2. np.any(condition) 조건 중 하나라도 참이면 True"
      ],
      "metadata": {
        "id": "5dFmBDN_8PXr"
      }
    },
    {
      "cell_type": "code",
      "source": [
        "import numpy as np\n",
        "\n",
        "a = np.array([10, 20, 30, 40, 50])\n",
        "\n",
        "print(np.any(a > 30))"
      ],
      "metadata": {
        "colab": {
          "base_uri": "https://localhost:8080/"
        },
        "id": "2vNRlVg675SR",
        "outputId": "b203edb0-eb12-4ce7-c9f0-547946224ab4"
      },
      "execution_count": 5,
      "outputs": [
        {
          "output_type": "stream",
          "name": "stdout",
          "text": [
            "True\n"
          ]
        }
      ]
    },
    {
      "cell_type": "markdown",
      "source": [
        "3. np.all(condition) 모든 조건이 참이면 True"
      ],
      "metadata": {
        "id": "bffXGEqE8QkA"
      }
    },
    {
      "cell_type": "code",
      "source": [
        "import numpy as np\n",
        "\n",
        "a = np.array([10, 20, 30, 40, 50])\n",
        "\n",
        "print(np.all(a > 30))"
      ],
      "metadata": {
        "colab": {
          "base_uri": "https://localhost:8080/"
        },
        "id": "3Gkhcyng8DwX",
        "outputId": "2accff9a-18f8-4dc9-942b-24f64c2d583d"
      },
      "execution_count": 6,
      "outputs": [
        {
          "output_type": "stream",
          "name": "stdout",
          "text": [
            "False\n"
          ]
        }
      ]
    },
    {
      "cell_type": "markdown",
      "source": [
        "4. np.isnan(a) NaN인지 확인"
      ],
      "metadata": {
        "id": "iTw6YmR88TOT"
      }
    },
    {
      "cell_type": "code",
      "source": [
        "import numpy as np\n",
        "\n",
        "a = np.array([10, 20, 30, 40, 50])\n",
        "\n",
        "print(np.isnan(a))"
      ],
      "metadata": {
        "colab": {
          "base_uri": "https://localhost:8080/"
        },
        "id": "2wdP63P28Iqc",
        "outputId": "7a9a76bb-b4ac-4cbf-fb33-3e9fd17ceeba"
      },
      "execution_count": 8,
      "outputs": [
        {
          "output_type": "stream",
          "name": "stdout",
          "text": [
            "[False False False False False]\n"
          ]
        }
      ]
    },
    {
      "cell_type": "code",
      "source": [],
      "metadata": {
        "id": "nTT-uD0E8MFC"
      },
      "execution_count": null,
      "outputs": []
    }
  ]
}