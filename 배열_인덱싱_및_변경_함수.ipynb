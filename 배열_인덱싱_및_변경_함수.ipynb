{
  "nbformat": 4,
  "nbformat_minor": 0,
  "metadata": {
    "colab": {
      "provenance": []
    },
    "kernelspec": {
      "name": "python3",
      "display_name": "Python 3"
    },
    "language_info": {
      "name": "python"
    }
  },
  "cells": [
    {
      "cell_type": "markdown",
      "source": [
        "📌 배열 인덱싱 및 변경\n",
        "\n",
        "arr.reshape(new_shape)\t배열 모양 변경\n",
        "\n",
        "arr.flatten()\t1차원 배열로 변환\n",
        "\n",
        "arr.transpose()\t전치(transpose)\n",
        "\n",
        "np.concatenate((a, b), axis=0)\t배열 연결\n",
        "\n",
        "np.split(arr, indices_or_sections)\t배열 분할\n"
      ],
      "metadata": {
        "id": "XU6OPOPw4XIZ"
      }
    },
    {
      "cell_type": "markdown",
      "source": [
        "1. arr.reshape(new_shape) 배열 모양 변경"
      ],
      "metadata": {
        "id": "vUo9zzlR5PcF"
      }
    },
    {
      "cell_type": "code",
      "execution_count": 9,
      "metadata": {
        "colab": {
          "base_uri": "https://localhost:8080/"
        },
        "id": "s-QlCS2w4F3I",
        "outputId": "273c9f85-5d98-4ed9-d382-9dc880cd5514"
      },
      "outputs": [
        {
          "output_type": "stream",
          "name": "stdout",
          "text": [
            "a = np.repeat(10, 10)\n",
            "[10 10 10 10 10 10 10 10 10 10]\n",
            "\n",
            "a.reshape(2,5)\n",
            "[[10 10 10 10 10]\n",
            " [10 10 10 10 10]]\n"
          ]
        }
      ],
      "source": [
        "import numpy as np\n",
        "\n",
        "a = np.repeat(10, 10)\n",
        "print(\"a = np.repeat(10, 10)\")\n",
        "print(a)\n",
        "print()\n",
        "\n",
        "print(\"a.reshape(2,5)\")\n",
        "print(a.reshape(2,5))"
      ]
    },
    {
      "cell_type": "markdown",
      "source": [
        "2. arr.flatten() 1차원 배열로 변환"
      ],
      "metadata": {
        "id": "jQmr8uZd5Rk6"
      }
    },
    {
      "cell_type": "code",
      "source": [
        "import numpy as np\n",
        "\n",
        "a = np.array([[1,2,3],[4,5,6]])\n",
        "\n",
        "print(\"a = np.array([[1,2,3],[4,5,6]])\")\n",
        "print(a)\n",
        "print()\n",
        "print(\"a.flatten()\")\n",
        "print(a.flatten())"
      ],
      "metadata": {
        "colab": {
          "base_uri": "https://localhost:8080/"
        },
        "id": "qWnH1th54ixa",
        "outputId": "4d3e0d0c-7dbd-432c-c1c4-5a9ee44119c6"
      },
      "execution_count": 13,
      "outputs": [
        {
          "output_type": "stream",
          "name": "stdout",
          "text": [
            "a = np.array([[1,2,3],[4,5,6]])\n",
            "[[1 2 3]\n",
            " [4 5 6]]\n",
            "\n",
            "a.flatten()\n",
            "[1 2 3 4 5 6]\n"
          ]
        }
      ]
    },
    {
      "cell_type": "markdown",
      "source": [
        "3. arr.transpose() 전치(transpose)"
      ],
      "metadata": {
        "id": "Mmwzb5Xl5ohC"
      }
    },
    {
      "cell_type": "code",
      "source": [
        "import numpy as np\n",
        "\n",
        "a = np.array([[1,2,3],[4,5,6]])\n",
        "\n",
        "print(\"a = np.array([[1,2,3],[4,5,6]])\")\n",
        "print(a)\n",
        "print()\n",
        "print(\"a.transpose()\")\n",
        "print(a.transpose())"
      ],
      "metadata": {
        "colab": {
          "base_uri": "https://localhost:8080/"
        },
        "id": "tsrHn7gK5bqr",
        "outputId": "98ab358a-f041-488a-992d-626b3fe37671"
      },
      "execution_count": 14,
      "outputs": [
        {
          "output_type": "stream",
          "name": "stdout",
          "text": [
            "a = np.array([[1,2,3],[4,5,6]])\n",
            "[[1 2 3]\n",
            " [4 5 6]]\n",
            "\n",
            "a.transpose()\n",
            "[[1 4]\n",
            " [2 5]\n",
            " [3 6]]\n"
          ]
        }
      ]
    },
    {
      "cell_type": "markdown",
      "source": [
        "4. np.concatenate((a, b), axis=0) 배열 연결"
      ],
      "metadata": {
        "id": "SXgx6j2U5-Eo"
      }
    },
    {
      "cell_type": "code",
      "source": [
        "import numpy as np\n",
        "\n",
        "a = np.array([[1,2,3],[4,5,6]])\n",
        "b = np.array([[7,8,9],[10,11,12]])\n",
        "\n",
        "print(\"a = np.array([[1,2,3],[4,5,6]])\")\n",
        "print(a)\n",
        "\n",
        "print(\"b = np.array([[7,8,9],[10,11,12]])\")\n",
        "print(b)\n",
        "print()\n",
        "print(\"np.concatenate((a, b), axis=0)\")\n",
        "print(np.concatenate((a, b), axis=0))"
      ],
      "metadata": {
        "colab": {
          "base_uri": "https://localhost:8080/"
        },
        "id": "joEKzOep6G6m",
        "outputId": "14e04f56-aeff-4a61-b1fc-eba1ee352f26"
      },
      "execution_count": 15,
      "outputs": [
        {
          "output_type": "stream",
          "name": "stdout",
          "text": [
            "a = np.array([[1,2,3],[4,5,6]])\n",
            "[[1 2 3]\n",
            " [4 5 6]]\n",
            "b = np.array([[7,8,9],[10,11,12]])\n",
            "[[ 7  8  9]\n",
            " [10 11 12]]\n",
            "\n",
            "np.concatenate((a, b), axis=0)\n",
            "[[ 1  2  3]\n",
            " [ 4  5  6]\n",
            " [ 7  8  9]\n",
            " [10 11 12]]\n"
          ]
        }
      ]
    },
    {
      "cell_type": "markdown",
      "source": [
        "5. np.split(arr, indices_or_sections) 배열 분할"
      ],
      "metadata": {
        "id": "9yHWOaIl6S-U"
      }
    },
    {
      "cell_type": "code",
      "source": [
        "import numpy as np\n",
        "\n",
        "a = np.array([[1,2,3],[4,5,6]])\n",
        "b = np.array([[7,8,9],[10,11,12]])\n",
        "\n",
        "print(\"a = np.array([[1,2,3],[4,5,6]])\")\n",
        "print(a)\n",
        "print()\n",
        "\n",
        "print(\"np.`split`(a, 2, axis=0)\")\n",
        "print(np.split(a, 2, axis=0))"
      ],
      "metadata": {
        "colab": {
          "base_uri": "https://localhost:8080/"
        },
        "id": "1--YkG076OFe",
        "outputId": "ddef3e1d-1d9d-4034-8468-2624d7a46a6d"
      },
      "execution_count": 17,
      "outputs": [
        {
          "output_type": "stream",
          "name": "stdout",
          "text": [
            "a = np.array([[1,2,3],[4,5,6]])\n",
            "[[1 2 3]\n",
            " [4 5 6]]\n",
            "\n",
            "np.`split`(a, 2, axis=0)\n",
            "[array([[1, 2, 3]]), array([[4, 5, 6]])]\n"
          ]
        }
      ]
    },
    {
      "cell_type": "code",
      "source": [],
      "metadata": {
        "id": "faXrrcxH6fR5"
      },
      "execution_count": null,
      "outputs": []
    }
  ]
}