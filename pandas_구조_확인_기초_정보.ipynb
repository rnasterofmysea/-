{
  "nbformat": 4,
  "nbformat_minor": 0,
  "metadata": {
    "colab": {
      "provenance": []
    },
    "kernelspec": {
      "name": "python3",
      "display_name": "Python 3"
    },
    "language_info": {
      "name": "python"
    }
  },
  "cells": [
    {
      "cell_type": "markdown",
      "source": [
        "1.구조 확인/기초 정보\n",
        "\n",
        "df.head(n)\t상위 n개 행 반환 (기본 5개)\n",
        "\n",
        "df.tail(n)\t하위 n개 행 반환\n",
        "\n",
        "df.shape\t(행, 열) 튜플 반환\n",
        "\n",
        "df.info()\t열 정보, 결측값, 데이터 타입 등 요약\n",
        "\n",
        "df.describe()\t수치형 열의 통계 요약 (평균, 표준편차 등)\n",
        "\n",
        "df.columns\t열 이름 리스트 반환\n",
        "\n",
        "df.index\t인덱스 정보 반환\n",
        "\n",
        "df.dtypes\t열별 데이터 타입 확인\n"
      ],
      "metadata": {
        "id": "q_cWqryoQ425"
      }
    },
    {
      "cell_type": "markdown",
      "source": [
        "read_csv(\"URL\") 파일 읽기"
      ],
      "metadata": {
        "id": "uOaHJfoXRck4"
      }
    },
    {
      "cell_type": "code",
      "execution_count": 10,
      "metadata": {
        "colab": {
          "base_uri": "https://localhost:8080/"
        },
        "id": "Xy4xfvuBPOse",
        "outputId": "c4ca5cbb-f5eb-414a-be9e-dabf5ce6a6cf"
      },
      "outputs": [
        {
          "output_type": "stream",
          "name": "stdout",
          "text": [
            "         Name  Korean  English  Math  Science  History\n",
            "0    Student1      60       95    99       91       82\n",
            "1    Student2      63       84    95       65      100\n",
            "2    Student3      63       89    98       90       71\n",
            "3    Student4      99       79    71       60       62\n",
            "4    Student5      69       79    78       96       76\n",
            "5    Student6      79       74    87       94       92\n",
            "6    Student7      81       99    60       89       60\n",
            "7    Student8      96       92    74       63       98\n",
            "8    Student9      83       61    95       94       79\n",
            "9   Student10      66       69    72       73      100\n",
            "10  Student11      84       92    80       99       73\n",
            "11  Student12      84       91    71       81       90\n",
            "12  Student13      72       70    64       69       84\n",
            "13  Student14      61       83    66       60       62\n",
            "14  Student15      98       95    64       70       63\n",
            "15  Student16      99       71    63       83       90\n",
            "16  Student17      83       88    72       62       94\n",
            "17  Student18      84       94    96       94       73\n",
            "18  Student19      77       60   100       95      100\n",
            "19  Student20      97       60    74       90       68\n",
            "20  Student21      85       96    75       63       79\n",
            "21  Student22      73       65    80       78       91\n",
            "22  Student23      68       98    95       95       68\n",
            "23  Student24      69      100    83       80       86\n",
            "24  Student25      80       77    75       77       62\n",
            "25  Student26      76       75    73       87       63\n",
            "26  Student27      65       64    81       74       74\n",
            "27  Student28      75       91    65       61       92\n",
            "28  Student29      60       61    95       96       64\n",
            "29  Student30      78       61    60       70       63\n"
          ]
        }
      ],
      "source": [
        "import pandas as pd\n",
        "\n",
        "\n",
        "mydata = pd.read_csv(\"pandas_practice_stu.csv\")\n",
        "\n",
        "print(mydata)\n"
      ]
    },
    {
      "cell_type": "markdown",
      "source": [
        "df.head(n) 상위 n개 행 반환 (기본 5개)"
      ],
      "metadata": {
        "id": "iXFO98ieRKk6"
      }
    },
    {
      "cell_type": "code",
      "source": [
        "print(mydata.head())"
      ],
      "metadata": {
        "colab": {
          "base_uri": "https://localhost:8080/"
        },
        "id": "l67Wb19HPa9w",
        "outputId": "1c53f84d-453d-4a88-d485-cc2c6a35e318"
      },
      "execution_count": 9,
      "outputs": [
        {
          "output_type": "stream",
          "name": "stdout",
          "text": [
            "       Name  Korean  English  Math  Science  History\n",
            "0  Student1      60       95    99       91       82\n",
            "1  Student2      63       84    95       65      100\n",
            "2  Student3      63       89    98       90       71\n",
            "3  Student4      99       79    71       60       62\n",
            "4  Student5      69       79    78       96       76\n"
          ]
        }
      ]
    },
    {
      "cell_type": "markdown",
      "source": [
        "df.tail(n) 하위 n개 행 반환"
      ],
      "metadata": {
        "id": "KW1srmitRMlx"
      }
    },
    {
      "cell_type": "code",
      "source": [
        "print(mydata.tail(3))"
      ],
      "metadata": {
        "colab": {
          "base_uri": "https://localhost:8080/"
        },
        "id": "p57cvi48P5jh",
        "outputId": "c3ff1b50-51ab-4df9-a762-a0315f9a1942"
      },
      "execution_count": 11,
      "outputs": [
        {
          "output_type": "stream",
          "name": "stdout",
          "text": [
            "         Name  Korean  English  Math  Science  History\n",
            "27  Student28      75       91    65       61       92\n",
            "28  Student29      60       61    95       96       64\n",
            "29  Student30      78       61    60       70       63\n"
          ]
        }
      ]
    },
    {
      "cell_type": "code",
      "source": [
        "print(mydata.shape)"
      ],
      "metadata": {
        "colab": {
          "base_uri": "https://localhost:8080/"
        },
        "id": "KVU64aaVQvKh",
        "outputId": "2d3ce30e-fd80-4398-c931-af44d461c5aa"
      },
      "execution_count": 14,
      "outputs": [
        {
          "output_type": "stream",
          "name": "stdout",
          "text": [
            "(30, 6)\n"
          ]
        }
      ]
    },
    {
      "cell_type": "markdown",
      "source": [
        "df.info() 열 정보, 결측값, 데이터 타입 등 요약"
      ],
      "metadata": {
        "id": "KfrUyjLARQEv"
      }
    },
    {
      "cell_type": "code",
      "source": [
        "print(mydata.info())"
      ],
      "metadata": {
        "colab": {
          "base_uri": "https://localhost:8080/"
        },
        "id": "5Hk9ffQpQxXj",
        "outputId": "32f5ccfd-2293-4bc1-a4b5-5f1a6d1cc1d4"
      },
      "execution_count": 15,
      "outputs": [
        {
          "output_type": "stream",
          "name": "stdout",
          "text": [
            "<class 'pandas.core.frame.DataFrame'>\n",
            "RangeIndex: 30 entries, 0 to 29\n",
            "Data columns (total 6 columns):\n",
            " #   Column   Non-Null Count  Dtype \n",
            "---  ------   --------------  ----- \n",
            " 0   Name     30 non-null     object\n",
            " 1   Korean   30 non-null     int64 \n",
            " 2   English  30 non-null     int64 \n",
            " 3   Math     30 non-null     int64 \n",
            " 4   Science  30 non-null     int64 \n",
            " 5   History  30 non-null     int64 \n",
            "dtypes: int64(5), object(1)\n",
            "memory usage: 1.5+ KB\n",
            "None\n"
          ]
        }
      ]
    },
    {
      "cell_type": "markdown",
      "source": [
        "df.describe() 수치형 열의 통계 요약 (평균, 표준편차 등)"
      ],
      "metadata": {
        "id": "58AozK08RSb5"
      }
    },
    {
      "cell_type": "code",
      "source": [
        "print(mydata.describe())"
      ],
      "metadata": {
        "colab": {
          "base_uri": "https://localhost:8080/"
        },
        "id": "1hdQtCOCQ-2P",
        "outputId": "fafd701d-71c1-42a0-f073-e869f5241209"
      },
      "execution_count": 16,
      "outputs": [
        {
          "output_type": "stream",
          "name": "stdout",
          "text": [
            "          Korean     English        Math    Science     History\n",
            "count  30.000000   30.000000   30.000000  30.000000   30.000000\n",
            "mean   77.566667   80.433333   78.700000  79.966667   78.633333\n",
            "std    12.062147   13.670213   12.779698  13.233925   13.576052\n",
            "min    60.000000   60.000000   60.000000  60.000000   60.000000\n",
            "25%    68.250000   69.250000   71.000000  69.250000   65.000000\n",
            "50%    77.500000   81.000000   75.000000  80.500000   77.500000\n",
            "75%    84.000000   92.000000   93.000000  93.250000   90.750000\n",
            "max    99.000000  100.000000  100.000000  99.000000  100.000000\n"
          ]
        }
      ]
    },
    {
      "cell_type": "markdown",
      "source": [
        "df.columns\t열 이름 리스트 반환"
      ],
      "metadata": {
        "id": "8LkHQJoRRWde"
      }
    },
    {
      "cell_type": "code",
      "source": [
        "print(mydata.columns)"
      ],
      "metadata": {
        "colab": {
          "base_uri": "https://localhost:8080/"
        },
        "id": "-ryw-zPeRA6F",
        "outputId": "1ea559be-03ad-48a0-da06-3ad95e1ad8a9"
      },
      "execution_count": 17,
      "outputs": [
        {
          "output_type": "stream",
          "name": "stdout",
          "text": [
            "Index(['Name', 'Korean', 'English', 'Math', 'Science', 'History'], dtype='object')\n"
          ]
        }
      ]
    },
    {
      "cell_type": "markdown",
      "source": [
        "df.index\t인덱스 정보 반환"
      ],
      "metadata": {
        "id": "HVX_KJrXRYWD"
      }
    },
    {
      "cell_type": "code",
      "source": [
        "print(mydata.index)"
      ],
      "metadata": {
        "colab": {
          "base_uri": "https://localhost:8080/"
        },
        "id": "ev2u8-GHRD_S",
        "outputId": "1c139790-4703-4789-915b-868b7fb4e171"
      },
      "execution_count": 18,
      "outputs": [
        {
          "output_type": "stream",
          "name": "stdout",
          "text": [
            "RangeIndex(start=0, stop=30, step=1)\n"
          ]
        }
      ]
    },
    {
      "cell_type": "markdown",
      "source": [
        "df.dtypes\t열별 데이터 타입 확인"
      ],
      "metadata": {
        "id": "pZr5wXszRaDS"
      }
    },
    {
      "cell_type": "code",
      "source": [
        "print(mydata.dtypes)"
      ],
      "metadata": {
        "colab": {
          "base_uri": "https://localhost:8080/"
        },
        "id": "bLCi5SAQRFRH",
        "outputId": "9a08e338-e1b4-401a-d3ff-fc98aee3c455"
      },
      "execution_count": 19,
      "outputs": [
        {
          "output_type": "stream",
          "name": "stdout",
          "text": [
            "Name       object\n",
            "Korean      int64\n",
            "English     int64\n",
            "Math        int64\n",
            "Science     int64\n",
            "History     int64\n",
            "dtype: object\n"
          ]
        }
      ]
    },
    {
      "cell_type": "code",
      "source": [],
      "metadata": {
        "id": "2aEvkNEYS2eg"
      },
      "execution_count": null,
      "outputs": []
    }
  ]
}